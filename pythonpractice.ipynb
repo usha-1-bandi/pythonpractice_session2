{
  "nbformat": 4,
  "nbformat_minor": 0,
  "metadata": {
    "colab": {
      "provenance": [],
      "authorship_tag": "ABX9TyPuT1Sr2G2TyQZcW9DL4RHX",
      "include_colab_link": true
    },
    "kernelspec": {
      "name": "python3",
      "display_name": "Python 3"
    },
    "language_info": {
      "name": "python"
    }
  },
  "cells": [
    {
      "cell_type": "markdown",
      "metadata": {
        "id": "view-in-github",
        "colab_type": "text"
      },
      "source": [
        "<a href=\"https://colab.research.google.com/github/usha-1-bandi/pythonpractice_session2/blob/main/pythonpractice.ipynb\" target=\"_parent\"><img src=\"https://colab.research.google.com/assets/colab-badge.svg\" alt=\"Open In Colab\"/></a>"
      ]
    },
    {
      "cell_type": "code",
      "execution_count": null,
      "metadata": {
        "colab": {
          "base_uri": "https://localhost:8080/"
        },
        "id": "vZhwGwXJw9WM",
        "outputId": "ce3da7df-4bba-4f5a-f6e1-3b2ff339df7a"
      },
      "outputs": [
        {
          "output_type": "stream",
          "name": "stdout",
          "text": [
            "failed\n"
          ]
        }
      ],
      "source": [
        "a=10\n",
        "if(a==5):\n",
        "    print(\"success\")\n",
        "else:\n",
        "\n",
        "    print(\"failed\")"
      ]
    },
    {
      "cell_type": "code",
      "source": [],
      "metadata": {
        "id": "keaRQN1lZzbH"
      },
      "execution_count": null,
      "outputs": []
    },
    {
      "cell_type": "code",
      "source": [],
      "metadata": {
        "id": "OADMYn2BZzea"
      },
      "execution_count": null,
      "outputs": []
    },
    {
      "cell_type": "code",
      "source": [],
      "metadata": {
        "id": "dFu6_zUDZzhv"
      },
      "execution_count": null,
      "outputs": []
    },
    {
      "cell_type": "code",
      "source": [],
      "metadata": {
        "id": "ATkG2-fyZzlO"
      },
      "execution_count": null,
      "outputs": []
    },
    {
      "cell_type": "code",
      "source": [
        "a=int(input())\n",
        "if a%2==0 :\n",
        "  print(a,\" is even\")\n",
        "else:\n",
        "  print(a,\"is odd\")"
      ],
      "metadata": {
        "colab": {
          "base_uri": "https://localhost:8080/"
        },
        "id": "uQz01SfQxUWW",
        "outputId": "8357e022-2ee9-4ba9-9435-4d7036dfdb8c"
      },
      "execution_count": null,
      "outputs": [
        {
          "output_type": "stream",
          "name": "stdout",
          "text": [
            "7\n",
            "7 is odd\n"
          ]
        }
      ]
    },
    {
      "cell_type": "code",
      "source": [
        "mark=int(input(\"enter the marks\"))\n",
        "if mark <=100 and mark>90:\n",
        "    print(\"A+\")\n",
        "elif mark <=90 and mark>80:\n",
        "    print(\"A\")\n",
        "elif mark <=80 and mark>70:\n",
        "    print(\"B+\")\n",
        "elif mark <=70 and mark>60:\n",
        "    print(\"B\")\n",
        "\n",
        "else:\n",
        "    print(\"average\")"
      ],
      "metadata": {
        "colab": {
          "base_uri": "https://localhost:8080/"
        },
        "id": "iXZjzkWdxHss",
        "outputId": "dfc51d7f-06a7-499c-a55b-58f17bd6ee53"
      },
      "execution_count": null,
      "outputs": [
        {
          "output_type": "stream",
          "name": "stdout",
          "text": [
            "enter the marks90\n",
            "A\n"
          ]
        }
      ]
    },
    {
      "cell_type": "code",
      "source": [
        "weight=float(input(\"enter the weight\"))\n",
        "height=float(input(\"enter the height\"))\n",
        "bmi=weight/(height**2)\n",
        "if weight<18.5:\n",
        "  print(\"underweight\")\n",
        "elif weight>=18.5 and weight<=24.9:\n",
        "  print(\"Normal weight\")\n",
        "  print(bmi)\n",
        "elif weight>=25 and weight<=29.9:\n",
        "  print(\"Overweight\")\n",
        "  print(bmi)\n",
        "else:\n",
        "  print(\"Obesity\")\n",
        "  print(bmi)\n"
      ],
      "metadata": {
        "colab": {
          "base_uri": "https://localhost:8080/"
        },
        "id": "YZvCMmCIxVAA",
        "outputId": "4f3f4a42-71f3-47a5-9bf2-20aa564eff01"
      },
      "execution_count": null,
      "outputs": [
        {
          "output_type": "stream",
          "name": "stdout",
          "text": [
            "enter the weight45\n",
            "enter the height1.8\n",
            "Obesity\n",
            "13.888888888888888\n"
          ]
        }
      ]
    },
    {
      "cell_type": "code",
      "source": [
        "for i in range(0,10,):\n",
        "  print(\"hello\")"
      ],
      "metadata": {
        "colab": {
          "base_uri": "https://localhost:8080/"
        },
        "id": "YrHtNvuAxVNG",
        "outputId": "74e85939-625b-4f50-f693-cfca92313a26"
      },
      "execution_count": null,
      "outputs": [
        {
          "output_type": "stream",
          "name": "stdout",
          "text": [
            "hello\n",
            "hello\n",
            "hello\n",
            "hello\n",
            "hello\n",
            "hello\n",
            "hello\n",
            "hello\n",
            "hello\n",
            "hello\n"
          ]
        }
      ]
    },
    {
      "cell_type": "code",
      "source": [
        "for i in range(0,10,):\n",
        "  print(i)\n",
        "  name=\"prathiksha\"\n",
        "  for i in name:\n",
        "    print(i)"
      ],
      "metadata": {
        "colab": {
          "base_uri": "https://localhost:8080/"
        },
        "id": "GQZeBt5_17OS",
        "outputId": "8150ab4b-a21e-4663-bf17-e3ddc5ecdc6b"
      },
      "execution_count": null,
      "outputs": [
        {
          "output_type": "stream",
          "name": "stdout",
          "text": [
            "0\n",
            "p\n",
            "r\n",
            "a\n",
            "t\n",
            "h\n",
            "i\n",
            "k\n",
            "s\n",
            "h\n",
            "a\n",
            "1\n",
            "p\n",
            "r\n",
            "a\n",
            "t\n",
            "h\n",
            "i\n",
            "k\n",
            "s\n",
            "h\n",
            "a\n",
            "2\n",
            "p\n",
            "r\n",
            "a\n",
            "t\n",
            "h\n",
            "i\n",
            "k\n",
            "s\n",
            "h\n",
            "a\n",
            "3\n",
            "p\n",
            "r\n",
            "a\n",
            "t\n",
            "h\n",
            "i\n",
            "k\n",
            "s\n",
            "h\n",
            "a\n",
            "4\n",
            "p\n",
            "r\n",
            "a\n",
            "t\n",
            "h\n",
            "i\n",
            "k\n",
            "s\n",
            "h\n",
            "a\n",
            "5\n",
            "p\n",
            "r\n",
            "a\n",
            "t\n",
            "h\n",
            "i\n",
            "k\n",
            "s\n",
            "h\n",
            "a\n",
            "6\n",
            "p\n",
            "r\n",
            "a\n",
            "t\n",
            "h\n",
            "i\n",
            "k\n",
            "s\n",
            "h\n",
            "a\n",
            "7\n",
            "p\n",
            "r\n",
            "a\n",
            "t\n",
            "h\n",
            "i\n",
            "k\n",
            "s\n",
            "h\n",
            "a\n",
            "8\n",
            "p\n",
            "r\n",
            "a\n",
            "t\n",
            "h\n",
            "i\n",
            "k\n",
            "s\n",
            "h\n",
            "a\n",
            "9\n",
            "p\n",
            "r\n",
            "a\n",
            "t\n",
            "h\n",
            "i\n",
            "k\n",
            "s\n",
            "h\n",
            "a\n"
          ]
        }
      ]
    },
    {
      "cell_type": "code",
      "source": [
        "name=\"prathiksha\"\n",
        "for i in name:\n",
        "    print(i)"
      ],
      "metadata": {
        "colab": {
          "base_uri": "https://localhost:8080/"
        },
        "id": "k4hWE1v92W9y",
        "outputId": "ff53dbac-8b92-4ab9-83d8-82cd4d67797e"
      },
      "execution_count": null,
      "outputs": [
        {
          "output_type": "stream",
          "name": "stdout",
          "text": [
            "p\n",
            "r\n",
            "a\n",
            "t\n",
            "h\n",
            "i\n",
            "k\n",
            "s\n",
            "h\n",
            "a\n"
          ]
        }
      ]
    },
    {
      "cell_type": "code",
      "source": [
        "a=100\n",
        "while a>=10:\n",
        "  print(a)\n",
        "  a=a-1"
      ],
      "metadata": {
        "colab": {
          "base_uri": "https://localhost:8080/"
        },
        "id": "GyPJxS_h2bgV",
        "outputId": "fa1fa7cc-44da-49cf-ac55-146c51d1b604"
      },
      "execution_count": null,
      "outputs": [
        {
          "output_type": "stream",
          "name": "stdout",
          "text": [
            "100\n",
            "99\n",
            "98\n",
            "97\n",
            "96\n",
            "95\n",
            "94\n",
            "93\n",
            "92\n",
            "91\n",
            "90\n",
            "89\n",
            "88\n",
            "87\n",
            "86\n",
            "85\n",
            "84\n",
            "83\n",
            "82\n",
            "81\n",
            "80\n",
            "79\n",
            "78\n",
            "77\n",
            "76\n",
            "75\n",
            "74\n",
            "73\n",
            "72\n",
            "71\n",
            "70\n",
            "69\n",
            "68\n",
            "67\n",
            "66\n",
            "65\n",
            "64\n",
            "63\n",
            "62\n",
            "61\n",
            "60\n",
            "59\n",
            "58\n",
            "57\n",
            "56\n",
            "55\n",
            "54\n",
            "53\n",
            "52\n",
            "51\n",
            "50\n",
            "49\n",
            "48\n",
            "47\n",
            "46\n",
            "45\n",
            "44\n",
            "43\n",
            "42\n",
            "41\n",
            "40\n",
            "39\n",
            "38\n",
            "37\n",
            "36\n",
            "35\n",
            "34\n",
            "33\n",
            "32\n",
            "31\n",
            "30\n",
            "29\n",
            "28\n",
            "27\n",
            "26\n",
            "25\n",
            "24\n",
            "23\n",
            "22\n",
            "21\n",
            "20\n",
            "19\n",
            "18\n",
            "17\n",
            "16\n",
            "15\n",
            "14\n",
            "13\n",
            "12\n",
            "11\n",
            "10\n"
          ]
        }
      ]
    },
    {
      "cell_type": "code",
      "source": [
        "def add(a,b):\n",
        "  print(\"addition of a and b:\",a+b)\n",
        "\n",
        "add(a,b)"
      ],
      "metadata": {
        "id": "rkwIScnMxVYa",
        "colab": {
          "base_uri": "https://localhost:8080/"
        },
        "outputId": "931a3c8e-016a-47b1-f08b-5dac177ac66f"
      },
      "execution_count": null,
      "outputs": [
        {
          "output_type": "stream",
          "name": "stdout",
          "text": [
            "addition of a and b: 9\n"
          ]
        }
      ]
    },
    {
      "source": [
        "def add(a,b):\n",
        "  #print(\"addition of a and b:\",a+b)\n",
        "  sum=a+b\n",
        "  return sum #after return statement w cannot execute anything\n",
        "\n",
        "# Define 'a' and 'b' before calling the function\n",
        "a =int(input())  # Example value for a\n",
        "b =int(input())\n",
        "    # Example value for b\n",
        "sum=add(a,b)\n",
        "print(sum)"
      ],
      "cell_type": "code",
      "metadata": {
        "colab": {
          "base_uri": "https://localhost:8080/"
        },
        "id": "frU_1auXEc3v",
        "outputId": "e97e8626-669c-4c4f-e5e0-8b8df038502c"
      },
      "execution_count": null,
      "outputs": [
        {
          "output_type": "stream",
          "name": "stdout",
          "text": [
            "5\n",
            "6\n",
            "11\n"
          ]
        }
      ]
    },
    {
      "cell_type": "code",
      "source": [
        "def even_odd(a):\n",
        "  if a%2==0:\n",
        "    print(\"even\")\n",
        "  else:\n",
        "    print(\"odd\")\n",
        "\n",
        "a=int(input())\n",
        "even_odd(a)\n"
      ],
      "metadata": {
        "colab": {
          "base_uri": "https://localhost:8080/"
        },
        "id": "E_SFHTT7Fnbr",
        "outputId": "47f2905a-163d-4cc3-b59c-386a08033ebf"
      },
      "execution_count": null,
      "outputs": [
        {
          "output_type": "stream",
          "name": "stdout",
          "text": [
            "6\n",
            "even\n"
          ]
        }
      ]
    },
    {
      "cell_type": "code",
      "source": [
        "def add(a,b):\n",
        "   print(\"addition of a and b:\",a+b)\n",
        "\n",
        "\n",
        "# Define 'a' and 'b' before calling the function\n",
        "a =int(input())  # Example value for a\n",
        "b =int(input())\n",
        "    # Example value for b\n",
        "add(a,b)\n"
      ],
      "metadata": {
        "colab": {
          "base_uri": "https://localhost:8080/"
        },
        "id": "mDaOw1oLGPTw",
        "outputId": "effd0a83-ca8b-4b0b-c7e2-74bd87f7f147"
      },
      "execution_count": null,
      "outputs": [
        {
          "output_type": "stream",
          "name": "stdout",
          "text": [
            "6\n",
            "8\n",
            "addition of a and b: 14\n"
          ]
        }
      ]
    },
    {
      "cell_type": "code",
      "source": [
        "def add():\n",
        "  print (\"addition:\",10+5)\n",
        "add()"
      ],
      "metadata": {
        "colab": {
          "base_uri": "https://localhost:8080/"
        },
        "id": "wGOD68XGEuq_",
        "outputId": "a3cce3d4-2b33-455e-a35e-71729103266e"
      },
      "execution_count": null,
      "outputs": [
        {
          "output_type": "stream",
          "name": "stdout",
          "text": [
            "addition: 15\n"
          ]
        }
      ]
    },
    {
      "cell_type": "code",
      "source": [],
      "metadata": {
        "id": "bFucLo0yGQaw"
      },
      "execution_count": null,
      "outputs": []
    },
    {
      "cell_type": "code",
      "source": [
        "def addition(a,b):\n",
        "  sum=a+b\n",
        "  return sum\n",
        "def subtract(a,b):\n",
        "  sub=a-b\n",
        "  return sub\n",
        "def division(a,b):\n",
        "  div=a/b\n",
        "  return div\n",
        "def multiplication(a,b):\n",
        "  mul=a*b\n",
        "  return mul\n",
        "a=int(input())\n",
        "b=int(input())\n",
        "if a==2:\n",
        "  print(\"addition:\",{addition(a,b)})\n",
        "elif a==2:\n",
        "  print(\"subtraction:\",{subtract(a,b)})\n",
        "elif a==3:\n",
        "  print(\"division:\",{division(a,b)})\n",
        "elif a==4:\n",
        "  print(\"multiplication:\",{multiplication(a,b)})\n",
        "\n"
      ],
      "metadata": {
        "colab": {
          "base_uri": "https://localhost:8080/"
        },
        "id": "RQD2b8UeKmS4",
        "outputId": "8010f3c8-7135-4eff-e9e5-e97a3a9f6ac4"
      },
      "execution_count": null,
      "outputs": [
        {
          "output_type": "stream",
          "name": "stdout",
          "text": [
            "3\n",
            "6\n",
            "division: {0.5}\n"
          ]
        }
      ]
    },
    {
      "cell_type": "code",
      "source": [
        "#file handling\n",
        "#createe a txt file and enter some data\n",
        "file=open(\"sample.txt\")\n",
        "content=file.read()\n",
        "print(content)\n",
        "\n"
      ],
      "metadata": {
        "colab": {
          "base_uri": "https://localhost:8080/",
          "height": 211
        },
        "id": "T9aLd3dALLOq",
        "outputId": "64856a40-35c2-4163-d44a-3b1e8856ccd8"
      },
      "execution_count": null,
      "outputs": [
        {
          "output_type": "error",
          "ename": "FileNotFoundError",
          "evalue": "[Errno 2] No such file or directory: 'sample.txt'",
          "traceback": [
            "\u001b[0;31m---------------------------------------------------------------------------\u001b[0m",
            "\u001b[0;31mFileNotFoundError\u001b[0m                         Traceback (most recent call last)",
            "\u001b[0;32m<ipython-input-20-4bf4779f00a7>\u001b[0m in \u001b[0;36m<cell line: 0>\u001b[0;34m()\u001b[0m\n\u001b[1;32m      1\u001b[0m \u001b[0;31m#file handling\u001b[0m\u001b[0;34m\u001b[0m\u001b[0;34m\u001b[0m\u001b[0m\n\u001b[0;32m----> 2\u001b[0;31m \u001b[0mfile\u001b[0m\u001b[0;34m=\u001b[0m\u001b[0mopen\u001b[0m\u001b[0;34m(\u001b[0m\u001b[0;34m\"sample.txt\"\u001b[0m\u001b[0;34m)\u001b[0m\u001b[0;34m\u001b[0m\u001b[0;34m\u001b[0m\u001b[0m\n\u001b[0m\u001b[1;32m      3\u001b[0m \u001b[0mcontent\u001b[0m\u001b[0;34m=\u001b[0m\u001b[0mfile\u001b[0m\u001b[0;34m.\u001b[0m\u001b[0mread\u001b[0m\u001b[0;34m(\u001b[0m\u001b[0;34m)\u001b[0m\u001b[0;34m\u001b[0m\u001b[0;34m\u001b[0m\u001b[0m\n\u001b[1;32m      4\u001b[0m \u001b[0mprint\u001b[0m\u001b[0;34m(\u001b[0m\u001b[0mcontent\u001b[0m\u001b[0;34m)\u001b[0m\u001b[0;34m\u001b[0m\u001b[0;34m\u001b[0m\u001b[0m\n\u001b[1;32m      5\u001b[0m \u001b[0;34m\u001b[0m\u001b[0m\n",
            "\u001b[0;31mFileNotFoundError\u001b[0m: [Errno 2] No such file or directory: 'sample.txt'"
          ]
        }
      ]
    },
    {
      "cell_type": "code",
      "source": [
        "try:\n",
        "       file = open(\"sample.txt\")\n",
        "       content = file.read()\n",
        "       print(content)\n",
        "except FileNotFoundError:\n",
        "       print(\"File not found. Please make sure 'sample.txt' exists in the current directory or provide the correct path.\")"
      ],
      "metadata": {
        "colab": {
          "base_uri": "https://localhost:8080/"
        },
        "id": "ltoln39lMJRU",
        "outputId": "8e1b7607-6fc5-4db9-e24a-72c0b818ae01"
      },
      "execution_count": null,
      "outputs": [
        {
          "output_type": "stream",
          "name": "stdout",
          "text": [
            "File not found. Please make sure 'sample.txt' exists in the current directory or provide the correct path.\n"
          ]
        }
      ]
    },
    {
      "cell_type": "code",
      "source": [
        "#write data to txt file\n",
        "file=open(\"sample.txt\",\"w\")\n",
        "file.write(\"hello\")\n",
        "file.close()\n"
      ],
      "metadata": {
        "id": "Me2hPydSMRhi"
      },
      "execution_count": null,
      "outputs": []
    },
    {
      "cell_type": "code",
      "source": [],
      "metadata": {
        "id": "RhS3NuG1PdSQ"
      },
      "execution_count": null,
      "outputs": []
    },
    {
      "cell_type": "code",
      "source": [],
      "metadata": {
        "id": "skf7JIDwPeI3"
      },
      "execution_count": null,
      "outputs": []
    },
    {
      "cell_type": "code",
      "source": [
        "#append mode it will not clear the existing data but it adds the new data\n",
        "file=open(\"sample.txt\",\"a\")\n",
        "file.write(\"hello\")\n",
        "file.close()\n"
      ],
      "metadata": {
        "id": "MPmIXvY-M-1d"
      },
      "execution_count": null,
      "outputs": []
    },
    {
      "cell_type": "code",
      "source": [
        "#to create file\n",
        "file=open(\"sample.txt\",'x')\n",
        "file.close()\n"
      ],
      "metadata": {
        "id": "KgzIJLU8N4Di"
      },
      "execution_count": null,
      "outputs": []
    },
    {
      "cell_type": "code",
      "source": [
        "#to create existing file x times\n",
        "import os\n",
        "if os.path.exists(\"sample.txt\"):\n",
        "  file=open(\"sample.txt\",'r')\n",
        "  print(file.read())\n",
        "else:\n",
        "  file=open(\"sample.txt\",'x')\n",
        "\n"
      ],
      "metadata": {
        "colab": {
          "base_uri": "https://localhost:8080/"
        },
        "id": "AmLurdZDPe9T",
        "outputId": "7550d420-8d81-4ddb-d020-36e723b0643e"
      },
      "execution_count": null,
      "outputs": [
        {
          "output_type": "stream",
          "name": "stdout",
          "text": [
            "hello\n"
          ]
        }
      ]
    },
    {
      "cell_type": "code",
      "source": [
        "#delete file\n",
        "if os.path.exists(\"sample.txt\"):\n",
        "  os.remove(\"sample.txt\")\n",
        "else:\n",
        "  print(\"file not found\")"
      ],
      "metadata": {
        "id": "YFR0h6YHPffh"
      },
      "execution_count": null,
      "outputs": []
    },
    {
      "cell_type": "code",
      "source": [
        "#lists items are odered,chageable(mutable) and allow duplicate values\n",
        "list1=[1,2,3,44]\n",
        "print(list1)\n",
        "print(list[2]) #to get particular element\n",
        "list1.append(8)#to add end of the list\n",
        "print(list1)\n",
        "list1.insert(1,5)#to add element at particular index\n",
        "print(list1)\n",
        "#to remove elements\n",
        "list1.pop()#removes end element in the list\n",
        "print(list1)\n",
        "list1.remove(1)#removes particular element,specify particular element not index of it\n",
        "print(list1)\n",
        "list1.sort()#sort the list\n",
        "print(list1)\n",
        "list1.reverse()#reverse the list\n",
        "print(list1)\n",
        "for i in list1 :\n",
        "  print(i)\n",
        "\n",
        "\n"
      ],
      "metadata": {
        "colab": {
          "base_uri": "https://localhost:8080/"
        },
        "id": "zB_jZlX_S8J7",
        "outputId": "ca9ffb21-bc15-4ecd-975e-6fee9deeaee9"
      },
      "execution_count": null,
      "outputs": [
        {
          "output_type": "stream",
          "name": "stdout",
          "text": [
            "[1, 2, 3, 44]\n",
            "list[2]\n",
            "[1, 2, 3, 44, 8]\n",
            "[1, 5, 2, 3, 44, 8]\n",
            "[1, 5, 2, 3, 44]\n",
            "[5, 2, 3, 44]\n",
            "[2, 3, 5, 44]\n",
            "[44, 5, 3, 2]\n",
            "44\n",
            "5\n",
            "3\n",
            "2\n"
          ]
        }
      ]
    },
    {
      "cell_type": "code",
      "source": [
        "#tuple\n",
        "a=(\"apple\",\"bannana\",\"cherry\",\"apple\")\n",
        "print(a)\n",
        "print(a[2])\n",
        "#to make tuple mutable\n",
        "a=list(a)\n",
        "print(a)\n",
        "a.remove('bannana')\n",
        "print(a)\n",
        "a=tuple(a)\n",
        "print(a)\n",
        "#to fin how many times a element in tuple occured\n",
        "print(a.count('apple'))"
      ],
      "metadata": {
        "colab": {
          "base_uri": "https://localhost:8080/"
        },
        "id": "ee3RlxjXZ12l",
        "outputId": "937629e0-3ba1-445e-ec1f-b1626fd1e5f5"
      },
      "execution_count": null,
      "outputs": [
        {
          "output_type": "stream",
          "name": "stdout",
          "text": [
            "('apple', 'bannana', 'cherry', 'apple')\n",
            "cherry\n",
            "['apple', 'bannana', 'cherry', 'apple']\n",
            "['apple', 'cherry', 'apple']\n",
            "('apple', 'cherry', 'apple')\n",
            "2\n"
          ]
        }
      ]
    },
    {
      "cell_type": "code",
      "source": [
        "#Dictionary\n",
        "student_detail={'name':'usha','section':'omega','rollno':594}\n",
        "print(student_detail)\n",
        "#get method\n",
        "print(student_detail.get('name'))\n",
        "student_detail['height']=6.0\n",
        "print(student_detail)\n",
        "#no duplication it only updates the existing value\n",
        "student_detail['rollno']=593\n",
        "print(student_detail)\n",
        "#to remove key\n",
        "student_detail.pop('height')\n",
        "print(student_detail)\n",
        "print(student_detail.keys())\n",
        "print(student_detail.values())\n"
      ],
      "metadata": {
        "colab": {
          "base_uri": "https://localhost:8080/"
        },
        "id": "EsCEGhc0Z2Em",
        "outputId": "0e133f94-26b5-4d34-c32c-7b7b106378bc"
      },
      "execution_count": null,
      "outputs": [
        {
          "output_type": "stream",
          "name": "stdout",
          "text": [
            "{'name': 'usha', 'section': 'omega', 'rollno': 594}\n",
            "usha\n",
            "{'name': 'usha', 'section': 'omega', 'rollno': 594, 'height': 6.0}\n",
            "{'name': 'usha', 'section': 'omega', 'rollno': 593, 'height': 6.0}\n",
            "{'name': 'usha', 'section': 'omega', 'rollno': 593}\n",
            "dict_keys(['name', 'section', 'rollno'])\n",
            "dict_values(['usha', 'omega', 593])\n"
          ]
        }
      ]
    },
    {
      "cell_type": "code",
      "source": [
        "#set is a collection which is unordered ,unchangeable,and unindexed,noduplicates\n",
        "s={1,3,4,56,7}\n",
        "u={4,8,98,6,5,}\n",
        "print(s)\n",
        "#to add element\n",
        "s.add(6)\n",
        "print(s)\n",
        "print(s.intersection(u))#returns common elements\n",
        "print(s.union(u))\n",
        "print(s.difference(u))\n",
        "print(u.difference(s))\n",
        "print(u.symmetric_difference(s))\n",
        "#if we make a set frozenset it cannot inlude any elements in it\n",
        "#s=frozenset(s)\n",
        "#s.add(0)\n",
        "\n"
      ],
      "metadata": {
        "colab": {
          "base_uri": "https://localhost:8080/"
        },
        "id": "rSveI3aFZ2I9",
        "outputId": "a42aef3a-6dee-4bc5-cceb-d72275da5d60"
      },
      "execution_count": null,
      "outputs": [
        {
          "output_type": "stream",
          "name": "stdout",
          "text": [
            "{1, 3, 4, 7, 56}\n",
            "{1, 3, 4, 6, 7, 56}\n",
            "{4, 6}\n",
            "{1, 98, 3, 4, 5, 6, 7, 8, 56}\n",
            "{56, 1, 3, 7}\n",
            "{8, 98, 5}\n",
            "{1, 98, 3, 5, 7, 8, 56}\n"
          ]
        }
      ]
    },
    {
      "cell_type": "code",
      "source": [
        "#oops\n",
        "#class\n",
        "#class is collection of objects\n",
        "class employee:\n",
        "  #class variable\n",
        "  company=\"amazon\"\n",
        "  #instance variable should be written within method\n",
        "  #constructor\n",
        "  def __init__(self,name,department):\n",
        "    self.name=name#initializing\n",
        "    self.department=department\n",
        "  #behaviour\n",
        "  def display(self):\n",
        "    print(\"i am \",self.name,\"and my department is\",self.department)\n",
        "#creating object to call constructor\n",
        "#object creation\n",
        "s=employee(\"prathiksha\",\"cse\")\n",
        "print(s.name)\n",
        "print(s.company)\n",
        "s.display()\n",
        "s1=employee(\"usha\",\"cse\")\n",
        "print(s1.company)\n",
        "s1.display()\n",
        "\n"
      ],
      "metadata": {
        "colab": {
          "base_uri": "https://localhost:8080/"
        },
        "id": "4N-42hO_Z2Lf",
        "outputId": "9cc8e8cc-87a6-4d91-923f-88c69190ad7b"
      },
      "execution_count": null,
      "outputs": [
        {
          "output_type": "stream",
          "name": "stdout",
          "text": [
            "prathiksha\n",
            "amazon\n",
            "i am  prathiksha and my department is cse\n",
            "amazon\n",
            "i am  usha and my department is cse\n"
          ]
        }
      ]
    },
    {
      "cell_type": "code",
      "source": [
        "#patterns\n",
        "for i in range(4):\n",
        "  for j in range(4):\n",
        "    print(\"#\",end=\"\")\n",
        "  print()"
      ],
      "metadata": {
        "id": "dHNYhgePZ2N5",
        "colab": {
          "base_uri": "https://localhost:8080/"
        },
        "outputId": "7e6a7eb0-511d-4411-fbda-3622dd0b7f76"
      },
      "execution_count": null,
      "outputs": [
        {
          "output_type": "stream",
          "name": "stdout",
          "text": [
            "####\n",
            "####\n",
            "####\n",
            "####\n"
          ]
        }
      ]
    },
    {
      "cell_type": "code",
      "source": [
        "print(\"hello world\")"
      ],
      "metadata": {
        "id": "sDNRHMIjZ2RR",
        "colab": {
          "base_uri": "https://localhost:8080/"
        },
        "outputId": "03935ac9-7e39-4ce8-c2d3-0117b4ceb83d"
      },
      "execution_count": null,
      "outputs": [
        {
          "output_type": "stream",
          "name": "stdout",
          "text": [
            "hello world\n"
          ]
        }
      ]
    },
    {
      "cell_type": "code",
      "source": [
        "for i in range(4):\n",
        "  for j in range(4-i):\n",
        "    print(\"#\",end=\" \")\n",
        "  print()"
      ],
      "metadata": {
        "colab": {
          "base_uri": "https://localhost:8080/"
        },
        "id": "h41YaK9YAjEL",
        "outputId": "321ec530-f4e8-4c1e-c487-81375fb0b98f"
      },
      "execution_count": null,
      "outputs": [
        {
          "output_type": "stream",
          "name": "stdout",
          "text": [
            "# # # # \n",
            "# # # \n",
            "# # \n",
            "# \n"
          ]
        }
      ]
    },
    {
      "cell_type": "code",
      "source": [
        "for i in range(5):\n",
        "  for j in range(i):\n",
        "    print(\"#\",end=\" \")\n",
        "  print()"
      ],
      "metadata": {
        "colab": {
          "base_uri": "https://localhost:8080/"
        },
        "id": "OJuKVMekAjQY",
        "outputId": "a29c69d5-9b44-47e5-da57-d55561216c7f"
      },
      "execution_count": null,
      "outputs": [
        {
          "output_type": "stream",
          "name": "stdout",
          "text": [
            "\n",
            "# \n",
            "# # \n",
            "# # # \n",
            "# # # # \n"
          ]
        }
      ]
    },
    {
      "cell_type": "code",
      "source": [
        "for i in range(4):\n",
        "  for j in range(i+1):\n",
        "    print(\"#\",end=\" \")\n",
        "  print()"
      ],
      "metadata": {
        "colab": {
          "base_uri": "https://localhost:8080/"
        },
        "id": "9Y1na2Z5ERwO",
        "outputId": "9179a2c0-d120-49c1-901e-668567f35127"
      },
      "execution_count": null,
      "outputs": [
        {
          "output_type": "stream",
          "name": "stdout",
          "text": [
            "# \n",
            "# # \n",
            "# # # \n",
            "# # # # \n"
          ]
        }
      ]
    },
    {
      "cell_type": "code",
      "source": [
        "nums=[15,46,869,498998,34434]\n",
        "for i in nums:\n",
        "  if i==10:\n",
        "    print(\"success\")\n",
        "  else:\n",
        "    print(\"failed\")"
      ],
      "metadata": {
        "colab": {
          "base_uri": "https://localhost:8080/"
        },
        "id": "Ue24hUvlER3N",
        "outputId": "4b4d25d7-ee7c-43a0-edea-e565f3256d22"
      },
      "execution_count": null,
      "outputs": [
        {
          "output_type": "stream",
          "name": "stdout",
          "text": [
            "failed\n",
            "failed\n",
            "failed\n",
            "failed\n",
            "failed\n"
          ]
        }
      ]
    },
    {
      "cell_type": "code",
      "source": [
        "nums=[15,46,869,498998,34434]\n",
        "for i in nums:\n",
        "  if i==10:\n",
        "    print(\"success\")\n",
        "else:\n",
        "  print(\"failed\")"
      ],
      "metadata": {
        "colab": {
          "base_uri": "https://localhost:8080/"
        },
        "id": "j2s70WIGER9B",
        "outputId": "8fd95d20-d909-408b-a01c-f8c421da093b"
      },
      "execution_count": null,
      "outputs": [
        {
          "output_type": "stream",
          "name": "stdout",
          "text": [
            "failed\n"
          ]
        }
      ]
    },
    {
      "cell_type": "code",
      "source": [
        "a=int(input(\"enter a number:\"))\n",
        "if a%2==0:\n",
        "  print(\"prime\")\n",
        "else:\n",
        "  print(\"not prime\")"
      ],
      "metadata": {
        "id": "Ivoume7mESAP",
        "colab": {
          "base_uri": "https://localhost:8080/"
        },
        "outputId": "8785a3e8-93a9-473b-af33-30af5af2376b"
      },
      "execution_count": null,
      "outputs": [
        {
          "output_type": "stream",
          "name": "stdout",
          "text": [
            "enter a number:14\n",
            "prime\n"
          ]
        }
      ]
    },
    {
      "cell_type": "code",
      "source": [
        "num=100\n",
        "for i in range(45,num):\n",
        "  if num%i==0:\n",
        "    print(\"  not prime\")\n",
        "    break\n",
        "else:\n",
        "  print(\"prime\")"
      ],
      "metadata": {
        "id": "CO1UC4zwESDf",
        "colab": {
          "base_uri": "https://localhost:8080/"
        },
        "outputId": "a3a2df12-9672-4bad-dfcf-b718aca9b019"
      },
      "execution_count": null,
      "outputs": [
        {
          "output_type": "stream",
          "name": "stdout",
          "text": [
            "  not prime\n"
          ]
        }
      ]
    },
    {
      "cell_type": "code",
      "source": [
        "#arrays\n",
        "import array as arr\n",
        "var=arr.array('i',[1,3,4,5,7,6,])#in place of i use u for letters\n",
        "print(var.buffer_info())#it will print address and size\n",
        "print(var.typecode)\n",
        "print(var[0])\n",
        "#assinging previous values to new array\n",
        "new_arr=arr.array(var.typecode,(a for a in var))\n",
        "print(new_arr)\n",
        "for i in new_arr:\n",
        "  print(i*i)\n",
        "for i in var:\n",
        "  print(i)\n",
        "#another way if we dont know thes size of array\n",
        "for i in range(len(var)):\n",
        "  print(var[i])"
      ],
      "metadata": {
        "id": "4Yakc0CbESG0",
        "colab": {
          "base_uri": "https://localhost:8080/"
        },
        "outputId": "dd7fbaea-2c4c-4b4a-9175-9f532428fd6f"
      },
      "execution_count": 9,
      "outputs": [
        {
          "output_type": "stream",
          "name": "stdout",
          "text": [
            "(135848305635216, 6)\n",
            "i\n",
            "1\n",
            "array('i', [1, 3, 4, 5, 7, 6])\n",
            "1\n",
            "9\n",
            "16\n",
            "25\n",
            "49\n",
            "36\n",
            "1\n",
            "3\n",
            "4\n",
            "5\n",
            "7\n",
            "6\n",
            "1\n",
            "3\n",
            "4\n",
            "5\n",
            "7\n",
            "6\n"
          ]
        }
      ]
    },
    {
      "cell_type": "code",
      "source": [],
      "metadata": {
        "id": "AtJHem0AF3FW"
      },
      "execution_count": null,
      "outputs": []
    },
    {
      "cell_type": "code",
      "source": [],
      "metadata": {
        "id": "9H6QwW1CF3Qz"
      },
      "execution_count": null,
      "outputs": []
    },
    {
      "cell_type": "code",
      "source": [],
      "metadata": {
        "id": "P1ysSX09F3Yz"
      },
      "execution_count": null,
      "outputs": []
    },
    {
      "cell_type": "code",
      "source": [],
      "metadata": {
        "id": "vOCerNrMF3fD"
      },
      "execution_count": null,
      "outputs": []
    }
  ]
}